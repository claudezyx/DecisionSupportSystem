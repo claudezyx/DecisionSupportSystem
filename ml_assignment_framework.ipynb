{
 "cells": [
  {
   "cell_type": "code",
   "execution_count": 2,
   "metadata": {
    "collapsed": true
   },
   "outputs": [],
   "source": [
    "# show the matplotlib plotted graph within notebook lines.\n",
    "import matplotlib.pyplot as plt\n",
    "%matplotlib inline\n",
    "import seaborn as sns"
   ]
  },
  {
   "cell_type": "markdown",
   "metadata": {},
   "source": [
    "### In case that your tqdm is not installed. Please go to the Start(Windows)->Anaconda2(64-bit)->Anaconda Prompt(py35)\n",
    "\n",
    "### type: conda install tqdm -y"
   ]
  },
  {
   "cell_type": "code",
   "execution_count": 3,
   "metadata": {},
   "outputs": [
    {
     "name": "stderr",
     "output_type": "stream",
     "text": [
      "C:\\Users\\sx449_000\\Anaconda3\\lib\\site-packages\\sklearn\\cross_validation.py:44: DeprecationWarning: This module was deprecated in version 0.18 in favor of the model_selection module into which all the refactored classes and functions are moved. Also note that the interface of the new CV iterators are different from that of this module. This module will be removed in 0.20.\n",
      "  \"This module will be removed in 0.20.\", DeprecationWarning)\n",
      "C:\\Users\\sx449_000\\Anaconda3\\lib\\site-packages\\sklearn\\grid_search.py:43: DeprecationWarning: This module was deprecated in version 0.18 in favor of the model_selection module into which all the refactored classes and functions are moved. This module will be removed in 0.20.\n",
      "  DeprecationWarning)\n"
     ]
    }
   ],
   "source": [
    "# import required libraries\n",
    "# pandas:Data framework library for Python\n",
    "# sklearn: Library to perform machine learning tasks\n",
    "import os\n",
    "import math\n",
    "import time\n",
    "from tqdm import tqdm\n",
    "import pandas as pd\n",
    "import numpy as np\n",
    "import scipy\n",
    "import scipy.stats as st\n",
    "import re\n",
    "import codecs\n",
    "from collections import Counter\n",
    "import nltk\n",
    "from nltk.stem import *\n",
    "from nltk.corpus import stopwords\n",
    "import sklearn \n",
    "import sklearn.datasets\n",
    "import sklearn.metrics as metrics \n",
    "from sklearn.metrics import accuracy_score\n",
    "from sklearn.naive_bayes import GaussianNB\n",
    "from sklearn.linear_model import LogisticRegression\n",
    "from sklearn.cross_validation import StratifiedKFold\n",
    "from sklearn.svm import SVC\n",
    "from sklearn.grid_search import GridSearchCV\n",
    "from sklearn.metrics import classification_report\n",
    "from sklearn.cross_validation import train_test_split\n",
    "from sklearn.preprocessing import label_binarize\n",
    "from scipy import stats"
   ]
  },
  {
   "cell_type": "code",
   "execution_count": 3,
   "metadata": {
    "collapsed": true
   },
   "outputs": [],
   "source": [
    "# extract data\n",
    "# !tar -xf 20news-19997.tar.gz -C ."
   ]
  },
  {
   "cell_type": "code",
   "execution_count": 4,
   "metadata": {
    "collapsed": true
   },
   "outputs": [],
   "source": [
    "# display newsgroups directories\n",
    "# !ls 20_newsgroups"
   ]
  },
  {
   "cell_type": "markdown",
   "metadata": {},
   "source": [
    "## Support functions"
   ]
  },
  {
   "cell_type": "code",
   "execution_count": 5,
   "metadata": {
    "collapsed": true
   },
   "outputs": [],
   "source": [
    "def getFilesDirectory(datapath='20_newsgroups'):\n",
    "    # create file directory for all files\n",
    "    files = []\n",
    "    for (path, dirnames, filenames) in os.walk(datapath):\n",
    "        files.extend(os.path.join(path, name) for name in filenames)\n",
    "    # putting file directories into pandas dataframe\n",
    "    directorydf= pd.DataFrame(files)\n",
    "    directorydf.columns = ['Directories']\n",
    "    return directorydf"
   ]
  },
  {
   "cell_type": "code",
   "execution_count": 6,
   "metadata": {
    "collapsed": true
   },
   "outputs": [],
   "source": [
    "directorydf = getFilesDirectory()"
   ]
  },
  {
   "cell_type": "code",
   "execution_count": 7,
   "metadata": {},
   "outputs": [
    {
     "data": {
      "text/plain": [
       "(19997, 1)"
      ]
     },
     "execution_count": 7,
     "metadata": {},
     "output_type": "execute_result"
    }
   ],
   "source": [
    "directorydf.shape"
   ]
  },
  {
   "cell_type": "code",
   "execution_count": null,
   "metadata": {
    "collapsed": true
   },
   "outputs": [],
   "source": []
  },
  {
   "cell_type": "code",
   "execution_count": 8,
   "metadata": {
    "collapsed": true
   },
   "outputs": [],
   "source": [
    "# create function to help encoding the targets\n",
    "def label_target (d):\n",
    "    if d.find(\"alt.atheism\") > 0 :\n",
    "      return 0\n",
    "    if d.find(\"comp.graphics\") > 0:\n",
    "      return 1\n",
    "    if d.find(\"comp.os.ms-windows.misc\") > 0:\n",
    "      return 2\n",
    "    if d.find(\"comp.sys.ibm.pc.hardware\") > 0:\n",
    "      return 3\n",
    "    if d.find(\"comp.sys.mac.hardware\") > 0:\n",
    "      return 4\n",
    "    if d.find(\"comp.windows.x\") > 0:\n",
    "      return 5\n",
    "    if d.find(\"misc.forsale\") > 0:\n",
    "      return 6\n",
    "    if d.find(\"rec.autos\") > 0:\n",
    "      return 7\n",
    "    if d.find(\"rec.motorcycles\") > 0:\n",
    "      return 8\n",
    "    if d.find(\"rec.sport.baseball\") > 0:\n",
    "      return 9\n",
    "    if d.find(\"rec.sport.hockey\") > 0:\n",
    "      return 10\n",
    "    if d.find(\"sci.crypt\") > 0:\n",
    "      return 11\n",
    "    if d.find(\"sci.electronics\") > 0:\n",
    "      return 12\n",
    "    if d.find(\"sci.med\") > 0:\n",
    "      return 13\n",
    "    if d.find(\"sci.space\") > 0:\n",
    "      return 14\n",
    "    if d.find(\"soc.religion.christian\") > 0:\n",
    "      return 15\n",
    "    if d.find(\"talk.politics.guns\") > 0:\n",
    "      return 16\n",
    "    if d.find(\"talk.politics.mideast\") > 0:\n",
    "      return 17\n",
    "    if d.find(\"talk.politics.misc\") > 0:\n",
    "      return 18\n",
    "    if d.find(\"talk.religion.misc\") > 0:\n",
    "      return 19\n",
    "    return 'Other'"
   ]
  },
  {
   "cell_type": "markdown",
   "metadata": {},
   "source": [
    "## Q1"
   ]
  },
  {
   "cell_type": "markdown",
   "metadata": {},
   "source": [
    "### (a)"
   ]
  },
  {
   "cell_type": "markdown",
   "metadata": {
    "collapsed": true
   },
   "source": [
    "(i) feature encoding method:\n",
    "- features are stemed\n",
    "- features are lowercased\n",
    "- Stopwords and non-alphabets are eliminated\n",
    "- features are encoded as term-frequency in each doc\n",
    "\n",
    "<br>(ii) ranking features\n",
    "- Term-frequency as feateare ranking method\n",
    "- After feature encoding above, the TF is informative\n",
    "- MI has its drawbacks\n",
    "    - In the sparse document we have here, rare terms has higher MI score, but will eazily overfit.\n",
    "    - $MI(t,c) = log \\frac{P(t|c)}{P(t)*P(c)}$, thus if 2 terms have same likelihood in a doc, the lower term frequency one will have beter score, which doesn't make sense\n",
    "    \n",
    "<br>(iii) how many features to select\n",
    "- By visualizing the features generated, it's found after 500, the feature becomes too sparse. Sparse data is not representative, and will also increase the risk of overfitting. So 500 is decided as an appropreate feature count."
   ]
  },
  {
   "cell_type": "markdown",
   "metadata": {},
   "source": [
    "### (b)"
   ]
  },
  {
   "cell_type": "code",
   "execution_count": 9,
   "metadata": {
    "collapsed": true
   },
   "outputs": [],
   "source": [
    "def dataPreprocessor(k, fs, encode, directorydf, size=None):\n",
    "    \"\"\"\n",
    "    INPUT\n",
    "        k: int. number of features to use\n",
    "        fs: string. From ['tf', 'mi']\n",
    "        encode: string. From ['tf', 'boolean']\n",
    "        drectorydf: Dataframe. It is given, see above support functions\n",
    "        size: int. Sample size. Default should be the data size.\n",
    "    OUTPUT\n",
    "        data: Dataframe. preprocessed data\n",
    "    \n",
    "    ps: 'tf' means term frequency, 'mi' means mutual information\n",
    "    \"\"\"\n",
    "    \n",
    "    ########### your code goes here ###########\n",
    "    #### sample size selection ####\n",
    "    if size is None:\n",
    "        pass\n",
    "    else:\n",
    "        directorydf = directorydf[:size] # specify sample size to use\n",
    "    #### end: sample size selection ####\n",
    "    \n",
    "    #### @ feature selection method  ####\n",
    "    if fs == 'mi' :\n",
    "        print('Mutual Information is not used here')\n",
    "        pass\n",
    "    \n",
    "    elif fs == 'tf':\n",
    "        \n",
    "        counter = Counter()\n",
    "        stopwords = nltk.corpus.stopwords.words('english')\n",
    "        ps = PorterStemmer()\n",
    "        # Open the files and count the word frequency in each file in a loop \n",
    "        # and update the counter after finished processing a file\n",
    "        for rownum, row in tqdm(enumerate(directorydf.itertuples())):\n",
    "            with codecs.open(row.Directories,\"r\" ,encoding='utf-8', errors='ignore') as myfile:\n",
    "                counter.update([word for word in re.findall(r'\\w+', myfile.read())\\\n",
    "                                if word.lower() not in stopwords and word.isalpha()])\n",
    "#             if (rownum % 1000 == 0):\n",
    "#                 print(\"processed %d files\" % (rownum+1))\n",
    "\n",
    "    ### @ k feature size ####        \n",
    "    # k as input, select topk most common words as features, top20 are useless\n",
    "    topk = counter.most_common(k)\n",
    "#     topk = topk[20:20+k]\n",
    "    ### end feature size ####\n",
    "\n",
    "    #### end feature selection ####\n",
    "  \n",
    "    # dataframe init'\n",
    "    np = []\n",
    "    # now we had top k words, count the frequecy (binary) of these words in individual file. ps.stem(word)\n",
    "    for rownum, row in tqdm(enumerate(directorydf.itertuples())):\n",
    "        with codecs.open(row.Directories,\"r\" ,encoding='utf-8', errors='ignore') as myfile:\n",
    "            tempCounter = Counter([word for word in re.findall(r'\\w+', myfile.read())\\\n",
    "                            if word.lower() not in stopwords and word.isalpha()])\n",
    "            ####  Select encode method from [tf, bool]\n",
    "            if encode == 'boolean':\n",
    "            # if the word appears in the doc, then 1, else \n",
    "                topkinDoc = [1 if tempCounter[word] > 0 else 0 for (word,wordCount) in topk]\n",
    "            elif encode == 'tf':\n",
    "                topkinDoc = [wordCount if tempCounter[word] > 0 else 0 for (word,wordCount) in topk]\n",
    "            #### Finish selecting encode method ####\n",
    "\n",
    "            # create a list for top k words with encoded target and its label\n",
    "            np.append(topkinDoc+[label_target(row.Directories)]+[row.Directories])\n",
    "#             if (rownum % 1000 == 0):\n",
    "#                 print(\"processed %d files\" % (rownum+1))\n",
    "   \n",
    "    # column names\n",
    "    newsgroupdf = pd.DataFrame(np)\n",
    "    dfName = []\n",
    "    for c in topk:\n",
    "        dfName.append(c[0])\n",
    "    \n",
    "    newsgroupdf.columns = dfName+['target','label']\n",
    "    ###########         end         ###########\n",
    "    return newsgroupdf"
   ]
  },
  {
   "cell_type": "code",
   "execution_count": 10,
   "metadata": {},
   "outputs": [
    {
     "name": "stderr",
     "output_type": "stream",
     "text": [
      "19997it [00:36, 549.95it/s]\n",
      "19997it [00:46, 434.67it/s]\n"
     ]
    }
   ],
   "source": [
    "data = dataPreprocessor(k=500, fs='tf', encode='tf', directorydf=directorydf, size=None)"
   ]
  },
  {
   "cell_type": "code",
   "execution_count": 11,
   "metadata": {},
   "outputs": [
    {
     "data": {
      "text/plain": [
       "pandas.core.frame.DataFrame"
      ]
     },
     "execution_count": 11,
     "metadata": {},
     "output_type": "execute_result"
    }
   ],
   "source": [
    "type(data)"
   ]
  },
  {
   "cell_type": "markdown",
   "metadata": {},
   "source": [
    "### (c)"
   ]
  },
  {
   "cell_type": "code",
   "execution_count": 4,
   "metadata": {},
   "outputs": [
    {
     "name": "stdout",
     "output_type": "stream",
     "text": [
      "2.01504837267\n"
     ]
    },
    {
     "data": {
      "text/plain": [
       "(3.0, 1.2744284906100645)"
      ]
     },
     "execution_count": 4,
     "metadata": {},
     "output_type": "execute_result"
    }
   ],
   "source": [
    "#Confidence Interval Function\n",
    "import scipy.stats\n",
    "from math import sqrt\n",
    "def mean_confidence_interval(data, confidence=0.95):\n",
    "    a = 1.0*np.array(data)\n",
    "    n = len(a)\n",
    "    mu,sd = np.mean(a),np.std(a)\n",
    "    z = 2.01504837267\n",
    "    h=z*sd/sqrt(n)\n",
    "    return mu, (mu-h, mu+h)"
   ]
  },
  {
   "cell_type": "code",
   "execution_count": 13,
   "metadata": {
    "collapsed": true
   },
   "outputs": [],
   "source": [
    "def randomSplitCI(data, clf, num_run, **params):\n",
    "    \"\"\"\n",
    "    INPUT\n",
    "        data: 2D numpy array. Pre-processed data\n",
    "        clf: string. Name of the classifier from ['LR', 'SVM', 'NB']\n",
    "        num_run: int. How many times you want to run for random evaluation?\n",
    "        params: string->real. Hyper-parameter of classifier. PS: c=1.0, r=0.01\n",
    "    \n",
    "    OUTPUT\n",
    "        train_scores: list. Results of trails\n",
    "        test_scores: list. Results of trails\n",
    "        train_mean: scalar. Average accuracy\n",
    "        test_mean: scalar. Average accuracy\n",
    "        train_ci: scalar. Confidence Interval\n",
    "        test_ci: scalar. Confidence Interval\n",
    "    \"\"\"\n",
    "    \n",
    "    ########### your code goes here ###########\n",
    "    ## Initil'\n",
    "    if clf == 'LR':\n",
    "        #### params\n",
    "        C = params.get('c')\n",
    "        if C: \n",
    "            clf_all = LogisticRegression(C=C)\n",
    "        else: \n",
    "            clf_all = LogisticRegression()\n",
    "        #### end params\n",
    "\n",
    "    elif clf == 'NB':\n",
    "        clf_all = GaussianNB()\n",
    "\n",
    "    elif clf == 'SVM':\n",
    "        # evaluate C in **kwarg\n",
    "        C = params.get('c')\n",
    "        if C:\n",
    "            svc_clf = SVC(C=C, probability= True)\n",
    "        else:\n",
    "            svc_clf = SVC(C=1, probability= True)\n",
    "        # evaluate cv in **kwarg\n",
    "        cv = params.get('cv')\n",
    "        clf_all = GridSearchCV(svc_clf, parameters, cv=5, scoring='accuracy') #5 folds\n",
    "    # Score lists\n",
    "    train_scores = []\n",
    "    test_scores = []   \n",
    "    # df to matrix\n",
    "    features_df = data.iloc[:, :-2]\n",
    "    features = features_df.as_matrix()\n",
    "    target_df = data.iloc[:, -2]\n",
    "    target = target_df.as_matrix()\n",
    "    ## end Initil'\n",
    "    \n",
    "    for i in tqdm(range(num_run)):\n",
    "        features_train, features_test, target_train, target_test = train_test_split(features, target, test_size=0.3)\n",
    "\n",
    "        clf_model = clf_all.fit(features_train, target_train) #train the model z    \n",
    "        target_pred = clf_model.predict(features_test)\n",
    "        train_pred = clf_model.predict(features_train)\n",
    "\n",
    "        # train/test score single value\n",
    "        temp_test_score = metrics.accuracy_score(target_test, target_pred)\n",
    "        temp_train_score = metrics.accuracy_score(target_train, train_pred)\n",
    "\n",
    "        # train/test score list\n",
    "        train_scores.append(temp_train_score)\n",
    "        test_scores.append(temp_test_score)\n",
    "            \n",
    "    ## Find scalars\n",
    "    # train/test mean\n",
    "#     train_mean = np.mean(train_scores)\n",
    "#     test_mean = np.mean(test_scores)\n",
    "    # train/test ci\n",
    "    train_mean, train_ci = mean_confidence_interval(train_scores, confidence=0.95)\n",
    "    test_mean, test_ci = mean_confidence_interval(test_scores, confidence=0.95)\n",
    "    ## end Find scalars\n",
    "    ###########         end         ###########\n",
    "    return train_scores,test_scores,train_mean,test_mean,train_ci,test_ci\n",
    "    "
   ]
  },
  {
   "cell_type": "code",
   "execution_count": 14,
   "metadata": {
    "scrolled": false
   },
   "outputs": [
    {
     "name": "stderr",
     "output_type": "stream",
     "text": [
      "100%|██████████████████████████████████████████| 10/10 [11:16<00:00, 71.91s/it]\n"
     ]
    }
   ],
   "source": [
    "train_scores,test_scores,train_mean,test_mean,train_ci,test_ci = randomSplitCI(data, 'LR', 10, c=1.0)"
   ]
  },
  {
   "cell_type": "code",
   "execution_count": 15,
   "metadata": {},
   "outputs": [
    {
     "name": "stdout",
     "output_type": "stream",
     "text": [
      "Train    \n",
      "Result of trails:[0.9807101521754662, 0.98235336143459318, 0.9814960348646139, 0.98249624919625633, 0.98142459098378221, 0.98085303993712936, 0.98121025934128747, 0.98156747874544548, 0.98121025934128747, 0.98056726441380293]     \n",
      "Average Accuracy: 0.9813888690433664     \n",
      "Confidence Interval: 0.0003480588355218925\n",
      "\n",
      "Test    \n",
      "Result of trails:[0.94566666666666666, 0.94199999999999995, 0.94333333333333336, 0.9418333333333333, 0.94350000000000001, 0.94350000000000001, 0.94366666666666665, 0.94216666666666671, 0.9458333333333333, 0.94466666666666665]     \n",
      "Average Accuracy: 0.9436166666666667     \n",
      "Confidence Interval: 0.0007737532180093897\n"
     ]
    }
   ],
   "source": [
    "print(\"Train\\\n",
    "    \\nResult of trails:{0} \\\n",
    "    \\nAverage Accuracy: {1} \\\n",
    "    \\nConfidence Interval: {2}\\n\".format(train_scores, train_mean, train_ci)\n",
    "     )\n",
    "print(\"Test\\\n",
    "    \\nResult of trails:{0} \\\n",
    "    \\nAverage Accuracy: {1} \\\n",
    "    \\nConfidence Interval: {2}\".format(test_scores, test_mean, test_ci)\n",
    "     )"
   ]
  },
  {
   "cell_type": "markdown",
   "metadata": {
    "collapsed": true
   },
   "source": [
    "Comparison\n",
    "- The train acurracy score is higher than test acurracy score. This is because we trained the model on the trianing set.\n",
    "But the model havn't seen the test set before, so the accuracy is lower."
   ]
  },
  {
   "cell_type": "markdown",
   "metadata": {},
   "source": [
    "### (d)"
   ]
  },
  {
   "cell_type": "markdown",
   "metadata": {
    "collapsed": true
   },
   "source": [
    "It tells us the average acurracy-score over entire family will fall in the range of $[\\mu \\pm h]$.\n",
    "It's more informative as it use Student's t-distribution to estimate the mean of entire population by doing statistical sampling."
   ]
  },
  {
   "cell_type": "markdown",
   "metadata": {},
   "source": [
    "### (e)"
   ]
  },
  {
   "cell_type": "code",
   "execution_count": 16,
   "metadata": {
    "collapsed": true
   },
   "outputs": [],
   "source": [
    "def randomSplitCM(data, clf, num_run, **params):\n",
    "    \"\"\"\n",
    "    INPUT\n",
    "        data: Dataframe. Pre-processed data\n",
    "        clf: string. Name of the classifier from ['LR', 'SVM', 'NB']\n",
    "        params: string->real. Hyper-parameter of classifier. PS: c=1.0, r=0.01\n",
    "    \n",
    "    OUTPUT\n",
    "        cm: pandas.DataFrame. Confusion Matrix\n",
    "    \"\"\"\n",
    "    ########### your code goes here ###########\n",
    "    ## Initil'\n",
    "    # df to matrix\n",
    "    features_df = data.iloc[:, :-2]\n",
    "    features = features_df.as_matrix()\n",
    "    target_df = data.iloc[:, -2]\n",
    "    target = target_df.as_matrix()\n",
    "    labels = target_df.unique()\n",
    "    cms = {}\n",
    "    cv = StratifiedKFold(target, n_folds=10)\n",
    "    ## end Initil'\n",
    "    \n",
    "    for i, (train, test) in tqdm(enumerate(cv)):\n",
    "        if clf == 'LR':\n",
    "            #### params\n",
    "            C = params.get('c')\n",
    "            if C: \n",
    "                clfLR = LogisticRegression(C=C)\n",
    "            else: \n",
    "                clfLR = LogisticRegression()\n",
    "            #### end params\n",
    "            clfModel = clfLR.fit(features[train], target[train])\n",
    "            target_pred = clfModel.predict(features[test])\n",
    "            cms[i] = pd.DataFrame(metrics.confusion_matrix(target[test], target_pred), columns=labels, index=labels)\n",
    "\n",
    "\n",
    "        elif clf == 'NB':\n",
    "            gnb = GaussianNB()\n",
    "            gnbModel = gnb.fit(features[train], target[train])\n",
    "            target_predNB = gnbModel.predict(features[test])\n",
    "            cms[i] = pd.DataFrame(metrics.confusion_matrix(target[test], target_predNB), columns=labels, index=labels)\n",
    "\n",
    "        elif clf == 'SVM':\n",
    "            # evaluate C in **kwarg\n",
    "            C = params.get('c')\n",
    "            if C:\n",
    "                svc_clf = SVC(C=C, probability= True)\n",
    "            else:\n",
    "                svc_clf = SVC(C=1, probability= True)\n",
    "            # evaluate cv in **kwarg\n",
    "            cv = params.get('cv')\n",
    "            if cv:\n",
    "                clfSVM = GridSearchCV(svc_clf, parameters, cv=cv, scoring='accuracy') # customized folds\n",
    "            else:\n",
    "                clfSVM = GridSearchCV(svc_clf, parameters, cv=5, scoring='accuracy') #5 folds\n",
    "            clfSVM.fit(features[train], target[train]) #train the model \n",
    "            target_predSVM = clfSVM.predict(features[test])\n",
    "            cms[i] = pd.DataFrame(metrics.confusion_matrix(target[test], target_predSVM), columns=labels, index=labels)\n",
    "        # Panel of all test set confusion matrices\n",
    "    pl = pd.Panel(cms)\n",
    "    cm = pl.sum(axis=0) #Sum the confusion matrices to get one view of how well the classifiers perform\n",
    "\n",
    "    ###########         end         ###########\n",
    "    return cm"
   ]
  },
  {
   "cell_type": "code",
   "execution_count": 17,
   "metadata": {},
   "outputs": [
    {
     "name": "stderr",
     "output_type": "stream",
     "text": [
      "10it [09:46, 50.95s/it]\n",
      "C:\\Users\\sx449_000\\Anaconda3\\lib\\site-packages\\ipykernel_launcher.py:1: DeprecationWarning: \n",
      "Panel is deprecated and will be removed in a future version.\n",
      "The recommended way to represent these types of 3-dimensional data are with a MultiIndex on a DataFrame, via the Panel.to_frame() method\n",
      "Alternatively, you can use the xarray package http://xarray.pydata.org/en/stable/.\n",
      "Pandas provides a `.to_xarray()` method to help automate this conversion.\n",
      "\n",
      "  \"\"\"Entry point for launching an IPython kernel.\n"
     ]
    }
   ],
   "source": [
    "cm = randomSplitCM(data, 'LR', 10, c=1.0)"
   ]
  },
  {
   "cell_type": "markdown",
   "metadata": {},
   "source": [
    "### (f)"
   ]
  },
  {
   "cell_type": "code",
   "execution_count": 18,
   "metadata": {
    "scrolled": true
   },
   "outputs": [
    {
     "data": {
      "text/plain": [
       "<matplotlib.axes._subplots.AxesSubplot at 0x191188b9fd0>"
      ]
     },
     "execution_count": 18,
     "metadata": {},
     "output_type": "execute_result"
    },
    {
     "data": {
      "image/png": "[encoded data removed]",
      "text/plain": [
       "<matplotlib.figure.Figure at 0x191188b9828>"
      ]
     },
     "metadata": {},
     "output_type": "display_data"
    }
   ],
   "source": [
    "sns.heatmap(cm)"
   ]
  },
  {
   "cell_type": "markdown",
   "metadata": {},
   "source": [
    "class 18 is more easily confused with class 16, 17 and 19. This may because topic 16-19 are all about politics, thus the features are similar in those classes, and can ealisy be misclassified."
   ]
  },
  {
   "cell_type": "code",
   "execution_count": null,
   "metadata": {
    "collapsed": true
   },
   "outputs": [],
   "source": []
  },
  {
   "cell_type": "markdown",
   "metadata": {},
   "source": [
    "## Q2"
   ]
  },
  {
   "cell_type": "code",
   "execution_count": 27,
   "metadata": {
    "collapsed": true
   },
   "outputs": [],
   "source": [
    "# with subsampling and random feature\n",
    "def featureSizeAC(data, clf, num_run, **params):\n",
    "    \"\"\"\n",
    "    INPUT\n",
    "        data: Dataframe. Pre-processed data\n",
    "        clf: string. Name of the classifier from ['LR', 'SVM', 'NB']\n",
    "        params: string->real. Hyper-parameter of classifier. PS: c=1.0, r=0.01\n",
    "    \n",
    "    OUTPUT\n",
    "        train_mean_fs list.\n",
    "        train_ci_fs: list.\n",
    "        test_mean_fs: list.\n",
    "        test_ci_fs: list.\n",
    "        \n",
    "    \"\"\"\n",
    "    feature_percentage = np.linspace(0.1, 1, 10, endpoint=True)\n",
    "    \n",
    "    ########### your code goes here ###########\n",
    "    ## Initil'\n",
    "    # Define clf type\n",
    "    if clf == 'LR':\n",
    "        #### params\n",
    "        C = params.get('c')\n",
    "        if C: \n",
    "            clf_all = LogisticRegression(C=C)\n",
    "        else: \n",
    "            clf_all = LogisticRegression()\n",
    "        #### end params\n",
    "\n",
    "    elif clf == 'NB':\n",
    "        clf_all = GaussianNB()\n",
    "\n",
    "    elif clf == 'SVM':\n",
    "        # evaluate C in **kwarg\n",
    "        C = params.get('c')\n",
    "        if C:\n",
    "            svc_clf = SVC(C=C, probability= True)\n",
    "        else:\n",
    "            svc_clf = SVC(C=1, probability= True)\n",
    "        clf_all = GridSearchCV(svc_clf, parameters, cv=5, scoring='accuracy') #5 folds\n",
    "        \n",
    "    # df to matrix\n",
    "    features_df = data.iloc[:, :-2]\n",
    "    features = features_df.as_matrix()\n",
    "    fs = features.shape[1]\n",
    "    target_df = data.iloc[:, -2]\n",
    "    target = target_df.as_matrix()\n",
    "    idx= np.random.permutation(range(fs))\n",
    "    temp_fs_list = [math.floor(fs*percentage) for percentage in feature_percentage]\n",
    "    features = features[:,idx]\n",
    "    \n",
    "    train_mean_fs = []\n",
    "    test_mean_fs = []\n",
    "    train_ci_fs = []\n",
    "    test_ci_fs = []\n",
    "    ## end Initil'\n",
    "    for temp_fs in tqdm(temp_fs_list): # do for all percentages\n",
    "        temp_features = features[:,:temp_fs]\n",
    "        train_scores = []\n",
    "        test_scores = []\n",
    "#         features_train, features_test, target_train, target_test = \\\n",
    "#         train_test_split(temp_features, target, test_size=0.3)\n",
    "        cv = StratifiedKFold(target, n_folds=num_run)\n",
    "        ###\n",
    "        for i, (train, test) in tqdm(enumerate(cv)):\n",
    "#         for j in tqdm(range(num_run)):\n",
    "            ##\n",
    "            clf_model = clf_all.fit(temp_features[train], target[train]) #train the model z    \n",
    "            target_pred = clf_model.predict(temp_features[test])\n",
    "            train_pred = clf_model.predict(temp_features[train])\n",
    "            \n",
    "            # train/test score single value\n",
    "            temp_test_score = metrics.accuracy_score(target[test], target_pred)\n",
    "            temp_train_score = metrics.accuracy_score(target[train], train_pred)\n",
    "            # train/test score list    \n",
    "            train_scores.append(temp_train_score)\n",
    "            test_scores.append(temp_test_score)\n",
    "            # append as result for per percentage\n",
    "            ##\n",
    "        ###\n",
    "        mu_train,h_train = mean_confidence_interval(train_scores, confidence=0.95)\n",
    "        mu_test,h_test = mean_confidence_interval(test_scores, confidence=0.95)\n",
    "        \n",
    "        train_mean_fs.append(mu_train)\n",
    "        test_mean_fs.append(mu_test)\n",
    "        train_ci_fs.append(h_train)\n",
    "        test_ci_fs.append(h_test)\n",
    "    ###########         end         ###########\n",
    "    return train_mean_fs, train_ci_fs, test_mean_fs, test_ci_fs"
   ]
  },
  {
   "cell_type": "markdown",
   "metadata": {},
   "source": [
    "### (a)"
   ]
  },
  {
   "cell_type": "code",
   "execution_count": 28,
   "metadata": {
    "scrolled": true
   },
   "outputs": [
    {
     "name": "stderr",
     "output_type": "stream",
     "text": [
      "\n",
      "  0%|                                                   | 0/10 [00:00<?, ?it/s]\n",
      "\n",
      "0it [00:00, ?it/s]\n",
      "\n",
      "1it [00:05,  5.70s/it]\n",
      "2it [00:11,  5.61s/it]\n",
      "3it [00:16,  5.53s/it]\n",
      "4it [00:21,  5.45s/it]\n",
      "5it [00:27,  5.43s/it]\n",
      "6it [00:32,  5.52s/it]\n",
      "7it [00:37,  5.40s/it]\n",
      "8it [00:43,  5.30s/it]\n",
      "9it [00:48,  5.29s/it]\n",
      "10it [00:53,  5.38s/it]\n",
      " 10%|████▎                                      | 1/10 [00:53<08:05, 53.90s/it]\n",
      "0it [00:00, ?it/s]\n",
      "1it [00:14, 14.43s/it]\n",
      "2it [00:27, 14.17s/it]\n",
      "3it [00:41, 14.01s/it]\n",
      "4it [00:55, 13.85s/it]\n",
      "5it [01:08, 13.71s/it]\n",
      "6it [01:22, 13.77s/it]\n",
      "7it [01:37, 14.22s/it]\n",
      "8it [01:51, 14.20s/it]\n",
      "9it [02:05, 14.15s/it]\n",
      "10it [02:19, 14.14s/it]\n",
      " 20%|████████▌                                  | 2/10 [03:13<10:37, 79.73s/it]\n",
      "0it [00:00, ?it/s]\n",
      "1it [00:28, 28.79s/it]\n",
      "2it [00:58, 29.05s/it]\n",
      "3it [01:29, 29.59s/it]\n",
      "4it [02:12, 33.59s/it]\n",
      "5it [03:05, 39.43s/it]\n",
      "6it [03:55, 42.70s/it]\n",
      "7it [04:41, 43.76s/it]\n",
      "8it [05:32, 45.86s/it]\n",
      "9it [06:23, 47.30s/it]\n",
      "10it [07:21, 50.59s/it]\n",
      " 30%|████████████▌                             | 3/10 [10:35<21:58, 188.29s/it]\n",
      "0it [00:00, ?it/s]\n",
      "1it [01:16, 76.40s/it]\n",
      "2it [02:52, 82.24s/it]\n",
      "3it [04:25, 85.49s/it]\n",
      "4it [05:58, 87.65s/it]\n",
      "5it [07:16, 85.04s/it]\n",
      "6it [08:45, 86.12s/it]\n",
      "7it [10:08, 85.16s/it]\n",
      "8it [11:34, 85.29s/it]\n",
      "9it [12:58, 84.92s/it]\n",
      "10it [14:16, 83.06s/it]\n",
      " 40%|████████████████▊                         | 4/10 [24:52<38:53, 388.90s/it]\n",
      "0it [00:00, ?it/s]\n",
      "1it [01:32, 92.65s/it]\n",
      "2it [03:11, 94.55s/it]\n",
      "3it [05:03, 99.74s/it]\n",
      "4it [06:54, 103.22s/it]\n",
      "5it [08:55, 108.36s/it]\n",
      "6it [10:59, 113.07s/it]\n",
      "7it [12:44, 110.68s/it]\n",
      "8it [14:33, 110.24s/it]\n",
      "9it [16:16, 108.08s/it]\n",
      "10it [18:42, 119.29s/it]\n",
      " 50%|█████████████████████                     | 5/10 [43:34<50:44, 608.86s/it]\n",
      "0it [00:00, ?it/s]\n",
      "1it [01:51, 111.31s/it]\n",
      "2it [03:25, 106.04s/it]\n",
      "3it [04:54, 101.21s/it]\n",
      "4it [06:23, 97.52s/it] \n",
      "5it [07:51, 94.57s/it]\n",
      "6it [09:05, 88.33s/it]\n",
      "7it [10:31, 87.67s/it]\n",
      "8it [11:58, 87.49s/it]\n",
      "9it [13:16, 84.74s/it]\n",
      "10it [14:40, 84.41s/it]\n",
      " 60%|█████████████████████████▏                | 6/10 [58:15<46:01, 690.38s/it]\n",
      "0it [00:00, ?it/s]\n",
      "1it [01:22, 82.33s/it]\n",
      "2it [02:55, 85.63s/it]\n",
      "3it [04:17, 84.47s/it]\n",
      "4it [05:48, 86.47s/it]\n",
      "5it [07:20, 88.19s/it]\n",
      "6it [08:49, 88.26s/it]\n",
      "7it [09:59, 83.00s/it]\n",
      "8it [11:28, 84.58s/it]\n",
      "9it [13:06, 88.56s/it]\n",
      "10it [14:36, 89.23s/it]\n",
      " 70%|████████████████████████████            | 7/10 [1:12:52<37:18, 746.33s/it]\n",
      "0it [00:00, ?it/s]\n",
      "1it [01:21, 81.53s/it]\n",
      "2it [02:55, 85.22s/it]\n",
      "3it [04:08, 81.62s/it]\n",
      "4it [05:34, 82.97s/it]\n",
      "5it [06:41, 78.24s/it]\n",
      "6it [07:48, 74.89s/it]\n",
      "7it [08:49, 70.55s/it]\n",
      "8it [09:42, 65.39s/it]\n",
      "9it [10:33, 61.10s/it]\n",
      "10it [11:20, 56.90s/it]\n",
      " 80%|████████████████████████████████        | 8/10 [1:24:13<24:13, 726.74s/it]\n",
      "0it [00:00, ?it/s]\n",
      "1it [00:47, 47.17s/it]\n",
      "2it [01:49, 51.77s/it]\n",
      "3it [02:37, 50.54s/it]\n",
      "4it [03:24, 49.51s/it]\n",
      "5it [04:20, 51.51s/it]\n",
      "6it [05:16, 52.73s/it]\n",
      "7it [06:16, 54.97s/it]\n",
      "8it [07:10, 54.67s/it]\n",
      "9it [08:09, 55.88s/it]\n",
      "10it [08:59, 54.23s/it]\n",
      " 90%|████████████████████████████████████    | 9/10 [1:33:12<11:10, 670.57s/it]\n",
      "0it [00:00, ?it/s]\n",
      "1it [00:48, 48.95s/it]\n",
      "2it [01:32, 47.43s/it]\n",
      "3it [02:23, 48.41s/it]\n",
      "4it [03:47, 59.16s/it]\n",
      "5it [04:56, 62.09s/it]\n",
      "6it [06:21, 68.91s/it]\n",
      "7it [07:53, 75.71s/it]\n",
      "8it [09:20, 79.13s/it]\n",
      "9it [10:44, 80.61s/it]\n",
      "10it [11:51, 76.51s/it]\n",
      "100%|███████████████████████████████████████| 10/10 [1:45:03<00:00, 682.78s/it]\n"
     ]
    },
    {
     "name": "stdout",
     "output_type": "stream",
     "text": [
      "Wall time: 1h 45min 4s\n"
     ]
    }
   ],
   "source": [
    "train_mean_fs, train_ci_fs, test_mean_fs, test_ci_fs = featureSizeAC(data, 'LR', 10, c=1.0)\n"
   ]
  },
  {
   "cell_type": "markdown",
   "metadata": {},
   "source": [
    "### (b)"
   ]
  },
  {
   "cell_type": "code",
   "execution_count": 33,
   "metadata": {},
   "outputs": [
    {
     "data": {
      "text/plain": [
       "([0.34526290181971098,\n",
       "  0.58572671447513114,\n",
       "  0.75764145983190156,\n",
       "  0.85674521521264779,\n",
       "  0.90411895395414255,\n",
       "  0.96698951745257289,\n",
       "  0.97056227988214727,\n",
       "  0.97579639821315056,\n",
       "  0.97598531766258545,\n",
       "  0.97605755130639582],\n",
       " [0.0015359246108029917,\n",
       "  0.0014751036719894083,\n",
       "  0.00099322567216137748,\n",
       "  0.001121739378423244,\n",
       "  0.00069587179998940472,\n",
       "  0.00076028113670977731,\n",
       "  0.00088769950565163378,\n",
       "  0.00088093020609531902,\n",
       "  0.00093069087652985843,\n",
       "  0.0009546408348813266],\n",
       " [0.32414849924962474,\n",
       "  0.54653051525762875,\n",
       "  0.6983568284142071,\n",
       "  0.79427086043021511,\n",
       "  0.83667721360680347,\n",
       "  0.90403784392196107,\n",
       "  0.91323949474737365,\n",
       "  0.93094192096048034,\n",
       "  0.93239204602301162,\n",
       "  0.93854287143571768],\n",
       " [0.012876434849046976,\n",
       "  0.0093235535237647989,\n",
       "  0.0091750575712238689,\n",
       "  0.00794347378421968,\n",
       "  0.0067711831038641925,\n",
       "  0.0074644813329488875,\n",
       "  0.0080939028553518831,\n",
       "  0.0072522369640587179,\n",
       "  0.0070473773239776733,\n",
       "  0.0069809005586884045])"
      ]
     },
     "execution_count": 33,
     "metadata": {},
     "output_type": "execute_result"
    }
   ],
   "source": [
    "train_mean_fs, train_ci_fs, test_mean_fs, test_ci_fs "
   ]
  },
  {
   "cell_type": "code",
   "execution_count": 31,
   "metadata": {
    "collapsed": true
   },
   "outputs": [],
   "source": [
    "def featureSizePlot(feature_size, train_mean_fs, train_ci_fs, test_mean_fs, test_ci_fs):\n",
    "    # First illustrate basic pyplot interface, using defaults where possible.\n",
    "    plt.figure()\n",
    "    test_curve=plt.errorbar(feature_size, test_mean_fs, color=sns.xkcd_rgb[\"pale red\"], yerr=test_ci_fs)\n",
    "    train_curve=plt.errorbar(feature_size, train_mean_fs,color=sns.xkcd_rgb[\"denim blue\"], yerr=train_ci_fs)\n",
    "    plt.legend([test_curve, train_curve], ['Test', 'Train'])\n",
    "    plt.xlabel('Feature Percentage')\n",
    "    plt.ylabel('Accuracy')\n",
    "    plt.title(\"Accuracy vs Feature Size\")\n",
    "    plt.show()"
   ]
  },
  {
   "cell_type": "code",
   "execution_count": 32,
   "metadata": {},
   "outputs": [
    {
     "data": {
      "image/png": "[encoded data removed]",
      "text/plain": [
       "<matplotlib.figure.Figure at 0x19118012978>"
      ]
     },
     "metadata": {},
     "output_type": "display_data"
    }
   ],
   "source": [
    "featureSizePlot(np.linspace(0.1, 1, 10, endpoint=True),train_mean_fs, train_ci_fs, test_mean_fs, test_ci_fs )"
   ]
  },
  {
   "cell_type": "markdown",
   "metadata": {},
   "source": [
    "## Q3"
   ]
  },
  {
   "cell_type": "code",
   "execution_count": null,
   "metadata": {
    "collapsed": true
   },
   "outputs": [],
   "source": [
    "def hyperParameterAC(data, clf, num_run):\n",
    "    \"\"\"\n",
    "    INPUT\n",
    "        data: Dataframe. Pre-processed data\n",
    "        clf: string. Name of the classifier from ['LR', 'SVM', 'NB']\n",
    "    \n",
    "    OUTPUT\n",
    "        test_mean_hp: list.  mean accuracy list of test\n",
    "        test_ci_hp: list. confidence interval list of test\n",
    "        train_mean_hp: list. mean accuracy list of train\n",
    "        train_ci_hp: list. confidence interval list of train\n",
    "        \n",
    "    NOTE \n",
    "        randomSplitCI could be the sub-route of this function\n",
    "    \"\"\"\n",
    "    params = np.logspace(-9, 9, num=9)\n",
    "    \n",
    "    ########### your code goes here ###########\n",
    "    ## Initil'\n",
    "    # Score lists\n",
    "  \n",
    "    # df to matrix\n",
    "    features_df = data.iloc[:, :-2]\n",
    "    features = features_df.as_matrix()\n",
    "    target_df = data.iloc[:, -2]\n",
    "    target = target_df.as_matrix()\n",
    "    \n",
    "    train_mean_hp = []\n",
    "    test_mean_hp = []\n",
    "    train_ci_hp = []\n",
    "    test_ci_hp = []\n",
    "    ## end Initil'\n",
    "    for C in tqdm(params): # do for all percentages\n",
    "        train_scores = []\n",
    "        test_scores = []\n",
    "        for j in tqdm(range(num_run)):\n",
    "            features_train, features_test, target_train, target_test = train_test_split(features, target, test_size=0.3)\n",
    "            if clf == 'LR':\n",
    "                clf_all = LogisticRegression(C=C)\n",
    "\n",
    "                #### end params                \n",
    "\n",
    "            elif clf == 'NB':\n",
    "                clf_all = GaussianNB()\n",
    "                \n",
    "            elif clf == 'SVM':\n",
    "                # evaluate C in **kwarg\n",
    "                svc_clf = SVC(C=C, probability= True)\n",
    "                # evaluate cv in **kwarg\n",
    "                cv = params.get('cv')\n",
    "                clf_all = GridSearchCV(svc_clf, parameters, cv=5, scoring='accuracy') #5 folds\n",
    "                \n",
    "            clf_model = clf_all.fit(features_train, target_train) #train the model z    \n",
    "            target_pred = clf_model.predict(features_test)\n",
    "            train_pred = clf_model.predict(features_train)\n",
    "            \n",
    "            # train/test score single value\n",
    "            temp_test_score = metrics.accuracy_score(target_test, target_pred)\n",
    "            temp_train_score = metrics.accuracy_score(target_train, train_pred)\n",
    "            # train/test score list    \n",
    "            train_scores.append(temp_train_score) \n",
    "            test_scores.append(temp_test_score) \n",
    "            # append as result for per percentage\n",
    "        mu_train,h_train = mean_confidence_interval(train_scores, confidence=0.95)\n",
    "        mu_test,h_test = mean_confidence_interval(test_scores, confidence=0.95)\n",
    "        \n",
    "        train_mean_hp.append(mu_train)\n",
    "        test_mean_hp.append(mu_test)\n",
    "        train_ci_hp.append(h_train)\n",
    "        test_ci_hp.append(h_test)\n",
    "    ###########         end         ###########\n",
    "    return train_mean_hp, train_ci_hp, test_mean_hp, test_ci_hp"
   ]
  },
  {
   "cell_type": "code",
   "execution_count": null,
   "metadata": {
    "collapsed": true
   },
   "outputs": [],
   "source": [
    "train_mean_hp, train_ci_hp, test_mean_hp, test_ci_hp = hyperParameterAC(data, 'LR', 3)"
   ]
  },
  {
   "cell_type": "code",
   "execution_count": null,
   "metadata": {
    "collapsed": true
   },
   "outputs": [],
   "source": [
    "def hyperParameterPlot(params, train_mean_hp, train_ci_hp, test_mean_hp, test_ci_hp):\n",
    "    # First illustrate basic pyplot interface, using defaults where possible.\n",
    "    plt.figure()\n",
    "    test_curve=plt.errorbar(params, test_mean_hp, color=sns.xkcd_rgb[\"pale red\"], yerr=test_ci_hp)\n",
    "    train_curve=plt.errorbar(params, train_mean_hp,color=sns.xkcd_rgb[\"denim blue\"], yerr=train_ci_hp)\n",
    "    plt.legend([test_curve, train_curve], ['Test', 'Train'])\n",
    "    plt.xlabel('Parameter')\n",
    "    plt.xscale(\"log\")\n",
    "    plt.ylabel('Accuracy')\n",
    "    plt.title(\"Accuracy vs Parameters\")\n",
    "    plt.show()"
   ]
  },
  {
   "cell_type": "code",
   "execution_count": null,
   "metadata": {
    "collapsed": true
   },
   "outputs": [],
   "source": [
    "hyperParameterPlot(np.logspace(-9, 9, num=9),train_mean_hp, train_ci_hp, test_mean_hp, test_ci_hp )"
   ]
  },
  {
   "cell_type": "markdown",
   "metadata": {},
   "source": [
    "## Q4"
   ]
  },
  {
   "cell_type": "markdown",
   "metadata": {},
   "source": [
    "### (a)"
   ]
  },
  {
   "cell_type": "code",
   "execution_count": null,
   "metadata": {
    "collapsed": true
   },
   "outputs": [],
   "source": [
    "def dataSizeAC(data, clf, num_run):\n",
    "    \"\"\"\n",
    "    INPUT\n",
    "        data: Dataframe. Pre-processed data\n",
    "        clf: string. Name of the classifier from ['LR', 'SVM', 'NB']\n",
    "        params: string->real. Hyper-parameter of classifier. PS: c=1.0, r=0.01\n",
    "    \n",
    "    OUTPUT\n",
    "        test_mean_ds: list.  mean accuracy list of test\n",
    "        test_ci_ds: list. confidence interval list of test\n",
    "        train_mean_ds: list. mean accuracy list of train\n",
    "        train_ci_ds: list. confidence interval list of train\n",
    "        \n",
    "        \n",
    "        \n",
    "    NOTE \n",
    "        randomSplitCI could be the sub-route of this function\n",
    "    \"\"\"\n",
    "    data_percentage = np.linspace(0.1, 1, 10, endpoint=True)\n",
    "    \n",
    "    ########### your code goes here ###########\n",
    "    # Score lists\n",
    "  \n",
    "    # df to matrix\n",
    "#     features_df = data.iloc[:, :-2]\n",
    "#     features = features_df.as_matrix()\n",
    "    ds = data.shape[0]\n",
    "    idx = np.random.permutation(range(ds))\n",
    "    data = data.iloc[idx]\n",
    "#     target_df = data.iloc[:, -2]\n",
    "#     target = target_df.as_matrix()\n",
    "    temp_ds_list = [math.floor(ds*percentage) for percentage in data_percentage]\n",
    "    \n",
    "    train_mean_ds = []\n",
    "    test_mean_ds = []\n",
    "    train_ci_ds = []\n",
    "    test_ci_ds = []\n",
    "    ## end Initil'\n",
    "    for temp_ds in tqdm(temp_ds_list): # do for all percentages\n",
    "        temp_features = data.iloc[:temp_ds, :-2].as_matrix()\n",
    "        temp_target = data.iloc[:temp_ds, -2].as_matrix()\n",
    "\n",
    "        train_scores = []\n",
    "        test_scores = []\n",
    "        for j in tqdm(range(num_run)):\n",
    "            features_train, features_test, target_train, target_test \\\n",
    "            = train_test_split(temp_features, temp_target, test_size=0.3)\n",
    "            if clf == 'LR':\n",
    "                clf_all = LogisticRegression()\n",
    "                #### end params\n",
    "            elif clf == 'NB':\n",
    "                clf_all = GaussianNB()\n",
    "\n",
    "            elif clf == 'SVM':\n",
    "                # evaluate C in **kwarg\n",
    "                svc_clf = SVC(C=1, probability= True)\n",
    "                # evaluate cv in **kwarg\n",
    "                cv = params.get('cv')\n",
    "                clf_all = GridSearchCV(svc_clf, parameters, cv=5, scoring='accuracy') #5 folds\n",
    "\n",
    "            clf_model = clf_all.fit(features_train, target_train) #train the model z    \n",
    "            target_pred = clf_model.predict(features_test)\n",
    "            train_pred = clf_model.predict(features_train)\n",
    "            \n",
    "            # train/test score single value\n",
    "            temp_test_score = metrics.accuracy_score(target_test, target_pred)\n",
    "            temp_train_score = metrics.accuracy_score(target_train, train_pred)\n",
    "            # train/test score list    \n",
    "            train_scores.append(temp_train_score)\n",
    "            test_scores.append(temp_test_score)\n",
    "            # append as result for per percentage\n",
    "        \n",
    "        train_mean_ds.append(np.mean(train_scores))\n",
    "        test_mean_ds.append(np.mean(test_scores))\n",
    "        \n",
    "        ## Find scalars\n",
    "        # train/test ci\n",
    "        train_ci_ds.append(mean_confidence_interval(train_scores, confidence=0.95)[1])\n",
    "        test_ci_ds.append(mean_confidence_interval(test_scores, confidence=0.95)[1])\n",
    "\n",
    "    ###########         end         ###########\n",
    "    return train_mean_ds, train_ci_ds, test_mean_ds, test_ci_ds"
   ]
  },
  {
   "cell_type": "code",
   "execution_count": null,
   "metadata": {
    "collapsed": true,
    "scrolled": true
   },
   "outputs": [],
   "source": [
    "train_mean_ds, train_ci_ds, test_mean_ds, test_ci_ds = dataSizeAC(data, 'LR', 3)"
   ]
  },
  {
   "cell_type": "code",
   "execution_count": null,
   "metadata": {
    "collapsed": true
   },
   "outputs": [],
   "source": [
    "print(train_mean_ds, train_ci_ds, test_mean_ds, test_ci_ds)"
   ]
  },
  {
   "cell_type": "markdown",
   "metadata": {},
   "source": [
    "### (b)"
   ]
  },
  {
   "cell_type": "code",
   "execution_count": null,
   "metadata": {
    "collapsed": true
   },
   "outputs": [],
   "source": [
    "def dataSizePlot(datasize, train_mean_ds, train_ci_ds, test_mean_ds, test_ci_ds):\n",
    "    # First illustrate basic pyplot interface, using defaults where possible.\n",
    "    plt.figure()\n",
    "    test_curve=plt.errorbar(datasize, test_mean_ds, color=sns.xkcd_rgb[\"pale red\"], yerr=test_ci_ds)\n",
    "    train_curve=plt.errorbar(datasize, train_mean_ds,color=sns.xkcd_rgb[\"denim blue\"], yerr=train_ci_ds)\n",
    "    plt.legend([test_curve, train_curve], ['Test', 'Train'])\n",
    "    plt.xlabel('Data Percentage')\n",
    "    plt.ylabel('Accuracy')\n",
    "    plt.title(\"Accuracy vs Data Percentage\")\n",
    "    plt.show()"
   ]
  },
  {
   "cell_type": "code",
   "execution_count": null,
   "metadata": {
    "collapsed": true
   },
   "outputs": [],
   "source": [
    "dataSizePlot(np.linspace(0.1, 1, 10, endpoint=True),train_mean_ds, train_ci_ds, test_mean_ds, test_ci_ds)"
   ]
  },
  {
   "cell_type": "code",
   "execution_count": null,
   "metadata": {
    "collapsed": true
   },
   "outputs": [],
   "source": []
  },
  {
   "cell_type": "markdown",
   "metadata": {},
   "source": [
    "## Q5"
   ]
  },
  {
   "cell_type": "markdown",
   "metadata": {},
   "source": [
    "### (a)"
   ]
  },
  {
   "cell_type": "code",
   "execution_count": null,
   "metadata": {
    "collapsed": true
   },
   "outputs": [],
   "source": [
    "TF_1st = data.iloc[0]\n",
    "TF_1st"
   ]
  },
  {
   "cell_type": "code",
   "execution_count": null,
   "metadata": {
    "collapsed": true
   },
   "outputs": [],
   "source": [
    "# Bool_data\n",
    "Bool = dataPreprocessor(k=500, fs='tf', encode='boolean', directorydf=directorydf) "
   ]
  },
  {
   "cell_type": "code",
   "execution_count": null,
   "metadata": {
    "collapsed": true
   },
   "outputs": [],
   "source": [
    "Bool.iloc[1]"
   ]
  },
  {
   "cell_type": "code",
   "execution_count": null,
   "metadata": {
    "collapsed": true
   },
   "outputs": [],
   "source": [
    "%%time\n",
    "train_scores_b,test_scores_b,train_mean_b,test_mean_b,train_ci_b,test_ci_b = randomSplitCI(Bool, 'LR', 5, c=1.0)"
   ]
  },
  {
   "cell_type": "code",
   "execution_count": null,
   "metadata": {
    "collapsed": true,
    "scrolled": false
   },
   "outputs": [],
   "source": [
    "print(\"Train\\\n",
    "    \\nAverage Accuracy: {0} \\\n",
    "    \\nConfidence Interval: {1}\\\n",
    "    \\nInterval:{2}\".format(train_mean_b, train_ci_b, [train_mean_b-train_ci_b, train_mean_b+train_ci_b])\n",
    "     )\n",
    "print(\"Test\\\n",
    "    \\nAverage Accuracy: {0} \\\n",
    "    \\nConfidence Interval: {1}\\\n",
    "    \\nInterval:{2}\".format(test_mean_b, test_ci_b, [test_mean_b-test_ci_b,test_mean_b+test_ci_b])\n",
    "     )"
   ]
  },
  {
   "cell_type": "code",
   "execution_count": null,
   "metadata": {
    "collapsed": true
   },
   "outputs": [],
   "source": []
  },
  {
   "cell_type": "code",
   "execution_count": null,
   "metadata": {
    "collapsed": true
   },
   "outputs": [],
   "source": [
    "%%time\n",
    "train_scores_t,test_scores_t,train_mean_t,test_mean_t,train_ci_t,test_ci_t = randomSplitCI(data, 'LR', 5, c=1.0)"
   ]
  },
  {
   "cell_type": "code",
   "execution_count": null,
   "metadata": {
    "collapsed": true,
    "scrolled": false
   },
   "outputs": [],
   "source": [
    "print(\"Train\\\n",
    "    \\nAverage Accuracy: {0} \\\n",
    "    \\nConfidence Interval: {1}\\\n",
    "    \\nInterval:{2}\".format(train_mean_t, train_ci_t, [train_mean_t-train_ci_t, train_mean_t+train_ci_t])\n",
    "     )\n",
    "print(\"Test\\\n",
    "    \\nAverage Accuracy: {0} \\\n",
    "    \\nConfidence Interval: {1}\\\n",
    "    \\nInterval:{2}\".format(test_mean_t, test_ci_t, [test_mean_t-test_ci_t,test_mean_t+test_ci_t])\n",
    "     )"
   ]
  },
  {
   "cell_type": "markdown",
   "metadata": {},
   "source": [
    "You should be able to get this answer easily by running dataPreprocessor fuction and randomSplitCI function"
   ]
  },
  {
   "cell_type": "markdown",
   "metadata": {},
   "source": [
    "### (b)"
   ]
  },
  {
   "cell_type": "markdown",
   "metadata": {
    "collapsed": true
   },
   "source": [
    "Binary encoding has a little bit higher accuracy than TF encoding. Because in this case, document frequency is not considered，and terms with very high TF may cause the model overfits the data."
   ]
  },
  {
   "cell_type": "markdown",
   "metadata": {},
   "source": [
    "## Q6"
   ]
  },
  {
   "cell_type": "code",
   "execution_count": null,
   "metadata": {
    "collapsed": true
   },
   "outputs": [],
   "source": [
    "train_scores_nb,test_scores_nb,train_mean_nb,test_mean_nb,train_ci_nb,test_ci_nb = randomSplitCI(data, 'LR', 3, c=1.0)"
   ]
  },
  {
   "cell_type": "code",
   "execution_count": null,
   "metadata": {
    "collapsed": true,
    "scrolled": true
   },
   "outputs": [],
   "source": [
    "print(\"Train\\\n",
    "    \\nAverage Accuracy: {0} \\\n",
    "    \\nConfidence Interval: {1}\\\n",
    "    \\nInterval:{2}\".format(train_mean_nb, train_ci_nb, [train_mean_nb-train_ci_nb, train_mean_nb+train_ci_nb])\n",
    "     )\n",
    "print(\"Test\\\n",
    "    \\nAverage Accuracy: {0} \\\n",
    "    \\nConfidence Interval: {1}\\\n",
    "    \\nInterval:{2}\".format(test_mean_nb, test_ci_nb, [test_mean_nb-test_ci_nb,test_mean_nb+test_ci_nb])\n",
    "     )"
   ]
  },
  {
   "cell_type": "code",
   "execution_count": null,
   "metadata": {
    "collapsed": true,
    "scrolled": true
   },
   "outputs": [],
   "source": [
    "train_scores_b6,test_scores_b6,train_mean_b6,test_mean_b6,train_ci_b6,test_ci_b6 = randomSplitCI(Bool, 'LR', 3, c=1.0)\n",
    "\n",
    "print(\"Train\\\n",
    "    \\nAverage Accuracy: {0} \\\n",
    "    \\nConfidence Interval: {1}\\\n",
    "    \\nInterval:{2}\".format(train_mean_b6, train_ci_b6, [train_mean_b6-train_ci_b6, train_mean_b6+train_ci_b6])\n",
    "     )\n",
    "print(\"Test\\\n",
    "    \\nAverage Accuracy: {0} \\\n",
    "    \\nConfidence Interval: {1}\\\n",
    "    \\nInterval:{2}\".format(test_mean_b6, test_ci_b6, [test_mean_b6-test_ci_b6,test_mean_b6+test_ci_b6])\n",
    "     )"
   ]
  },
  {
   "cell_type": "markdown",
   "metadata": {},
   "source": [
    "### (a)"
   ]
  },
  {
   "cell_type": "markdown",
   "metadata": {
    "collapsed": true
   },
   "source": [
    "The Boolean encoded logistic regression performs better than Naive Bayes.\n",
    "Naive Bayes assume for a known class, the value of each feature in the class is independent from values of other features, which doesn't hold in this case."
   ]
  },
  {
   "cell_type": "code",
   "execution_count": null,
   "metadata": {
    "collapsed": true
   },
   "outputs": [],
   "source": []
  }
 ],
 "metadata": {
  "kernelspec": {
   "display_name": "Python 3",
   "language": "python",
   "name": "python3"
  },
  "language_info": {
   "codemirror_mode": {
    "name": "ipython",
    "version": 3
   },
   "file_extension": ".py",
   "mimetype": "text/x-python",
   "name": "python",
   "nbconvert_exporter": "python",
   "pygments_lexer": "ipython3",
   "version": "3.6.1"
  }
 },
 "nbformat": 4,
 "nbformat_minor": 2
}
